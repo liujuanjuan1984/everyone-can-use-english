{
 "cells": [
  {
   "cell_type": "markdown",
   "metadata": {},
   "source": [
   "## 7. 更重要的是思考能力\n",
   "\n",
   "语言最终是用来表达思想的。所以，思考方式格外重要。大多数人不懂得如何正确思考，乃至于所要表达的东西漏洞百出却又不自知。这个问题导致的更多麻烦，很多的时候被一些英语老师归咎于 “东西方文化差异”，这是和稀泥的一种说法 —— 事实上，这跟文化没多大关系，而是思考能力问题。关于文化差异，首先需要的是尊重，其次需要的是理解。而思考能力差异，则是另外一回事，所表达的内容千疮百孔，无论如何都只能怪思考能力差，而与文化差异毫无关系。\n",
   "\n",
   "不能 “只学英语”，这就好像用计算机绘图，只学 “Photoshop” 是不够的，要有足够的色彩、手绘基本训练，才能够自由创作一样。有几本书，建议所有想获得正确思考能力，进而表达清晰的人阅读。\n",
   "\n",
   "* Thought and Knowledge: An Introduction to Critical Thinking 4th edition, by Diane F. Halpern\n",
   "\n",
   "* Thinking and Deciding, 4th edition, by Jonathan Baron\n",
   "\n",
   "* Argumentation: The Study of Effective Reasoning by Zarefsky David (Audiobook)\n",
   "\n",
   "* Craft of Research, by Wayne C. Booth, Gregory G. Colomb, Joseph M. Williams\n",
   "\n",
   "* Good Reasoning Matters!: A Constructive Approach to Critical Thinking 3rd edition, by Leo A. Groarke, Christopher W. Tindale\n",
   "\n",
   "另外，还有三本关于文风（Style）的书籍也一定要看：\n",
   "\n",
   "* A Plain English Handbook (1998), from Security and Exchange Commission, Prefaced by Warren E. Buffett (http://www.plainlanguage.gov)\n",
   "\n",
   "* On Writing: A Memoir of The Craft by Stephen King (with audiobook)\n",
   "\n",
   "Style: Toward Clarity and Grace by Joseph M. Williams\n",
   "\n",
   "另外，还有一个 TTC (The Teaching Company)的视频教程，是我所见过最好的写作课程：\n",
   "\n",
   "* Building Great Sentences。\n",
   "\n"
   ]
  }
 ],
 "nbformat": 4,
 "nbformat_minor": 5,
 "metadata": {}
}
