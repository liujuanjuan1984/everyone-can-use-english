{
 "cells": [
  {
   "cell_type": "markdown",
   "metadata": {},
   "source": [
   "## 23. 音调（Pitch）\n",
   "\n",
   "注意，这一节要讲的，不是 “语调”，不是 “声调”，而是 “音调”（pitch）。\n",
   "\n",
   "按照 David Allen Stern 的理论，英语使用者最经常使用的自然语流模式是 “Step-up-and-step-down pattern”。简单点说，就是开头的那个被重读的音节音调会被提高，而随后音节的音调将逐步降低。而所谓的 “开头”，并不见得一定是句子的开头。当一个句子长到一定程度的时候，说话者会把这个句子按照意群划分为若干个单位，每个单位之间有或明显或不明显的停顿（起码要换换气才能接着说话吧？）—— 如果是这样的话，那每个意群都可能会有一个被提高音调的音节，而随后音节的音调将逐步降低。\n",
   "\n",
   "还是这句话：\n",
   "\n",
   "> **Community** service is an important component of education here at our university. We encourage **all** students to volunteer for at least one community activity before they graduate. A **new** community program called “One On One” **helps** elementary students who’ve fallen behind.\n",
   "\n",
   "请细心分辨以上加重标记的词汇中的重音音节的音调（pitch）：“Community”, “all”, “new”, “helps”。\n",
   "\n",
   "到此为止，已掌握的基本知识，已经可以使学生完整地把握英语的节奏节拍了。\n",
   "\n",
   "* 每个元音长短都要恰当\n",
   "\n",
   "* 语流中的强读弱读词汇要分清\n",
   "\n",
   "* 在合适的位置要停顿\n",
   "\n",
   "* 声调模式恰当\n",
   "\n",
   "* 位于意群之首的重音音节带有相对更高的音调\n",
   "\n",
   "有了这样的把握，再加上对这个系列文章中所详细讲解的各个重点音素（辅音/t/、/d/、/s/、/l/、/θ/、/ð/、/v/，以及/ʒ/；元音/ʌ/、/æ/，以及各个双元音）的深入理解，重塑自己的语音，已经具备足够条件。做自己的明师，也没那么难。\n",
   "\n"
   ]
  }
 ],
 "nbformat": 4,
 "nbformat_minor": 5,
 "metadata": {}
}
