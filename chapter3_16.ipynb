{
 "cells": [
  {
   "cell_type": "markdown",
   "metadata": {},
   "source": [
   "## 16. 掌握失爆，还是得从/t/做起\n",
   "\n",
   "/t/啊/t/，我踢死你算了。\n",
   "\n",
   "请认真听以下录音：\n",
   "\n",
   "> I hope you’ve all finishe***~~d~~*** reading the assigne***~~d~~*** chapter on insurance — so tha***~~t~~*** you’re prepare***~~d~~*** for our discussion today. （第2篇第1句）\n",
   "\n",
   "其中，“finished” 这个词末尾的 “ed” 由于跟在清辅音/sh/后面，所以原本应该读成/t/ ，但又由于后面紧跟着的单词是辅音开头的（“reading”），所以/t/就 “失爆” 了，于是听不到了；后面还有总计三处/t/或/d/产生失爆现象而听不到的情况。\n",
   "\n",
   "需要着重解释的是，所谓的 “失爆”，并不是省略。实际上说话者的口腔内舌头的运动是完整的，/t/或者/d/结束的时候，舌尖还是要顶到牙龈的位置上（如下图所示），只不过，没有气流振动，于是听不到而已。\n",
   "\n",
   "![](images/figure08.png)\n",
   "\n",
   "最为关键的是，这些因失爆而无法听到的/t/、/d/在语流中依然占据它们原本该拥有的长度。于是，“might be” 并不是读成/maibi:/而是/mai(-)bi:/，(-)的位置上，舌尖定在牙龈上，略作停顿，再发出/bi:/的声音。一定不要忘了停顿，那感觉就好像弹吉他的时候扫弦切音一样。仔细听下面的录音，注意 “might be” 和 “interested in it”。\n",
   "\n",
   ">You education majors **migh*~~t~~* be** especially **interested in *~~it~~*** because it offers the opportunity to do some teaching — that is, tutoring in math and English.（第1篇第4句）\n",
   "\n",
   "可能产生失爆的辅音还有/p/、/b/、/k/、/g/。例如，下面的 “helps” 中的/p/，和 “looks” 中的/k/：\n",
   "\n",
   "> A new community program called “One On One” hel***~~p~~*s** elementary students who’ve fallen behind. （第1篇第3句）\n",
   "\n",
   "> It loo***~~k~~***s good on your resume, too…（第1篇第倒数第3句）\n",
   "\n",
   "通行的语音教程上还会更进一步讲解 “失去爆破” 与 “不完全爆破”，我个人认为，对大多数人来说，已经没必要再深究了、语言学习就是这样：先把握最基本的，而后通过大量的练习与应用就可自然学会很多自己都不知道怎么学会的东西。\n",
   "\n",
   "一个旁通的例子是，在中文中，在某个层面上，“编” 这个字与 “织” 这个字是一样的意思 —— 乃至于 “编织” 还是同样的意思；然而，我们会说 “这个女孩织毛衣”，“那个男孩编故事”，但我们绝对不会说 “他们在织故事。” 最后一句话显然是错误的，至于为什么错误，而我们又是如何避免这个错误的 —— 我们不知道，也无需知道，反正我们就是不会犯那样的错误。哦，其实我们早就应该知道的，我们在第二章 “2.7 朗读训练可以提高语言文字模式识别能力” 中有清楚的解释。\n",
   "\n"
   ]
  }
 ],
 "nbformat": 4,
 "nbformat_minor": 5,
 "metadata": {}
}
