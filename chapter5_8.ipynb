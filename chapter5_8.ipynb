{
 "cells": [
  {
   "cell_type": "markdown",
   "metadata": {},
   "source": [
   "## 8. Oxford Collocation Dictionary \n",
   "\n",
   "Oxford Collocation Dictionary for Students of English 是一本具有划时代意义的词典。Oxford Phrasebuilder Genie 这个软件包含两个重要的词典，一个是《牛津高级词典》（Oxford Advanced Learner's Dictionary），另外一个则是目前几乎找不到任何其它替代的这本《牛津搭配词典》（Oxford Collocation Dictionary for Students of English）—— 国内的书店里，我只在北京王府井外文书店的四楼看到过有卖这部词典的原版（大约 380 元人民币，含印刷版与 CDROM；另外，一楼有卖 “影印版”，很便宜，几十块钱而已）。2009 年，这本伟大的词典终于出了第二版：\n",
   "\n",
   "![](images/figure46.png) \n",
   "\n",
   "《牛津搭配词典》包含 1 万 5 千个搭配词条。比如，你搜索 “house”，那么就可以看到作为一个名词的 “house” 经常做 “live in, occupy, share, buy, rent, sell……” 等等动词的宾语（VERB+HOUSE） \n",
   "\n",
   "![](images/figure47.png) \n",
   "\n",
   "拥有这个词典的好处是，我们可以不再必须依赖外教（实际上从来就依赖不上，也靠不住）学习英语了。想表达什么，就去查。语言的所谓 “地道” 使用，更为关键的是在搭配上 —— 发音、语法等等固然重要，但没有搭配重要。可以试想一下 \n",
   "\n",
   " \n",
   "\n",
   "> I hate purple passage with no essential content. （我讨厌金玉其外败絮其中的文章）（passage与purple搭配，或说passage被purple修饰，即构成一个词组，“词藻华丽的文字、段落”） \n",
   "\n",
   " \n",
   "\n",
   "这句话里面，多少有些语法错误，purple passage，应该是 purple passages[复数]；而 content 也应该是 contents[复数]。但是，即便语法有些错误，一个外国人，把这句有点语法错误的话用不太标准的发音读出来，那么作为交谈对象的以英语为母语的人还是可以一下子完全听懂，沟通即可顺畅完成。这就是搭配的作用。 \n",
   "\n",
   " \n",
   "\n",
   "第二版的界面更加友好，使用起来相对更加方便，查阅时可以随时鼠标左键双击其中的任一单词，而后会跳出一个小对话框，其中是这个单词的释义，并配有真人发音。这是唯一一本我个人认为值得平时闲着没事就拿着印刷版翻翻看的词典 —— 当然电子版也一样。 \n",
   "\n"
   ]
  }
 ],
 "nbformat": 4,
 "nbformat_minor": 5,
 "metadata": {}
}
