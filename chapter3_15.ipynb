{
 "cells": [
  {
   "cell_type": "markdown",
   "metadata": {},
   "source": [
   "## 15. 掌握浊化，从/t/做起\n",
   "\n",
   "/t/真的是个很值得为其花费时间精力的辅音，就算这节结束之后还要再次提起呢。\n",
   "\n",
   "在已经知道了/t/这个音的舌尖起始位置与中文的[t]不同之后，还要知道/t/这个辅音的另外一个重要特征：当/t/夹在两个元音之间的时候，/t/就会被浊化。最明显的例子 city 这个单词，/t/前后都是元音，所以，读出来的时候，不再是/t/而是/t̬/（请注意 t 下小小的 “v” 字形符号 ）。再比如，meet 这个单词，读作/miːt/，而加上 ing 之后，就是/ˈmiːt̬ɪŋ/——/t/变成了/t̪/，听起来很接近/d/的一个音。/t/正是因为如此才被称为 “清辅音”，而/d/则是因为发音的时候有声带振动而被称为 “浊辅音”。\n",
   "\n",
   "而在自然语流中，/t/前后都是元音的情况就更多了，因为很多单词以/t/结尾，而另外还有很多单词以元音开头。请仔细听听下面的录音：\n",
   "\n",
   "> You education majors might be especially interested in it because **it offers** the opportunity to do some teaching -- **that is**, tutoring in math and English.（第1篇第4句）\n",
   "\n",
   "这其中，“it offers” 两个词之间发生了连读现象，于是，/t/被夹在两个元音之间；而 “that is” 中的/t/也是一样的道理；被浊化的/t̬/与/d/非常接近，因为舌尖起始位置是相同的，并且不再像/t/那样只有气流振动没有声带振动——/t̪/不仅有气流振动还有比/d/相对轻微一点的声带振动。只不过，/t̪/相对更加短促一些，感觉上更加具有弹性 —— 而事实上，直接把/t̪/读成/d/也是可以的，因为差别实在不大。\n",
   "\n",
   "严格意义上来讲，应该是这样的：当清辅音/t/夹在两个元音之间，前一个是重读元音，后一个是轻读元音时，/t/才会被浊化为/t̬/。比如，“writer” 和 “rider”、“latter” 和 “ladder”、“petal” 和 “pedal” 听起来都差不多。所以，前文中 “opportunity” 的 “第二个 t”，以及 “tutoring” 中的 “第二个 t”，都没有被浊化。\n",
   "\n",
   "但平心而论，这确实很难分辨，尤其对把英语当作外语来学的中国学生来说，更是如此。所以，先去了解 “浊化” 现象，而后尽力模仿，但也没必要过分苛求。实际上，说多了之后，即便不刻意 “浊化”，也会自然而然地在该怎样就怎样。更何况，这只是发音中的小细节，在达成良好沟通的过程中，其作用仅占一个很小很小的比例。\n",
   "\n",
   "另外，在自然语流中，落在重音上的音节中，位于/s/后面的清辅音/t/、/k/、/p/、/ʧ/往往被浊化。所以，“[study](http://cougar.eb.com/soundc11/s/study001.wav)” 读得像/sdʌdɪ/、“[school](http://cougar.eb.com/soundc11/s/school01.wav)” 读得像/sgu:l/、“[experience](http://cougar.eb.com/soundc11/e/experi01.wav)” 读得像/ɪksˈbɪərəns/、“[strive](http://cougar.eb.com/soundc11/s/strive01.wav)” 读得像/sʤaɪv/。\n",
   "\n",
   "然而，有时这些清辅音之前尽管有/s/但，这些辅音与后面的元音并未构成重音音节的时候，就不会被浊化。所以，“[distance](http://cougar.eb.com/soundc11/d/distan01.wav)”, “[costume](http://cougar.eb.com/soundc11/c/costum02.wav)”, “[biscuit](http://cougar.eb.com/soundc11/b/biscui01.wav)” 这些单词中/s/后面的辅音就不被浊化。当然，“coast” 这个单词中的/t/肯定不会被浊化。\n",
   "\n"
   ]
  }
 ],
 "nbformat": 4,
 "nbformat_minor": 5,
 "metadata": {}
}
