{
 "cells": [
  {
   "cell_type": "markdown",
   "metadata": {},
   "source": [
   "## 5.8 轻松搜索电子书\n",
   "\n",
   "大约二十年前，获取大量有效信息的方法几乎只有一个，去图书馆；而在国内，图书馆是大城市的特权。互联网改变了一切，电子化的文档某种意义上早已经把纸媒远远抛在了身后。在英文世界里更是如此。 \n",
   "\n",
   "常用的搜索方法有这么几个：\n",
   "\n",
   "### 1. 在 Google 上直接搜索书名或者作者名。\n",
   "\n",
   "有些作者可能会直接提供全文下载。比如，诺贝尔经济学奖得主米尔顿弗里德曼（Milton Friedman）的 “[Free to Choose](http://www.freetochoose.net/)” 不仅有文本，还有 PBS 为其制作的 15 集视频。《自私的基因》的作者；理查德道金斯（Richard Dawkins）的个人网站上提供他的大部分著作的下载。\n",
   "\n",
   "### 2. 在 Google 搜索里指定文件格式\n",
   "\n",
   "电子书的最常用格式包括这么几个：chm, pdf, djvu。chm 格式无需特殊的阅读器，pdf 需要安装 Adobe Reader；而 djvu 也有自己的阅读器。而很多的时候，网络上这些电子书往往会被压缩成 rar、zip 或其它格式；最好安装一个 WinRAR 或者 7-Zip 解压程序。\n",
   "\n",
   "搜索时，在 Google 的输入框里输入作者名或者书名，之后填上 “filetype:pdf”。比如：\n",
   "\n",
   "> Tipping Point filetype:pdf\n",
   "\n",
   "总之，可以尝试的文件类型有：chm, pdf, djvu, doc, rtf, txt, rar, zip…\n",
   "\n",
   "### 3. 到 Google Books 上看看有没有可以直接浏览的版本\n",
   "\n",
   "Google Books 做的非常好，访问地址是http://books.google.com/。很多书籍都可以直接在线阅读；就算没有“Preview”的书籍，也提供检索功能。\n",
   "\n",
   "### 4. 干脆自定义一个专门的搜索引擎\n",
   "\n",
   "Google 的自定义搜索引擎（[Google CSE](http://www.google.com/cse/)）功能非常强大。我专门做了一个搜索电子书的 CSE，在这个页面上可以找到：http://is.gd/6nUgW\n",
   "\n",
   "### 5. 到 WikiPedia 上搜索一下作者和书名\n",
   "\n",
   "在 WikiPedia 上往往可以找到很多相关信息；作者越著名，书籍越畅销，相关信息就越多。往往会顺藤摸瓜找到更多资源。\n",
   "\n"
   ]
  }
 ],
 "nbformat": 4,
 "nbformat_minor": 5,
 "metadata": {}
}
