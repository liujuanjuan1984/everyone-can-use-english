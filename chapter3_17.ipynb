{
 "cells": [
  {
   "cell_type": "markdown",
   "metadata": {},
   "source": [
   "## 17. 攻克所谓的 “同化”\n",
   "\n",
   "/t + j/可能会变成/ʧ/。比如，下面例子中的 “want you...”\n",
   "\n",
   "> Then tonight I **want you** to go home and read a passage into a tape recorder and evaluate your own voice. （第16篇最后1句）\n",
   "\n",
   "但并非总是如此，有些时候，说话者会把/t/后面的/j/当作辅音处理，这样的话，前面的/t/就 “失爆” 了。定义上，/j/是 “半辅音”，或者 “半元音”。我猜是这样，当/j/所在的音节是重音音节的时候，/j/被当作 “半辅音” 处理；而当/j/所在的音节是非重音音节的时候，/j/则被当作 “半元音” 处理。比如，下面这个已经听过的句子中（之前已经听过），that 中的/t/，后面尽管跟着/j/，但是，/t/是失爆了，而不是与/j/结合产生了同化。\n",
   "\n",
   "> I hope you've all finished reading the assigned chapter on insurance -- **so tha*~~t~~*** you're prepared for our discussion today. （第2篇第1句）\n",
   "\n",
   "/d + j/也一样。很多的时候，/d/与/j/结合，会变成/ʤ/。但另外一些时候，并不产生音变。比如下面这个句子：\n",
   "\n",
   "> **What should you do, then**, on those sleepless nights?（第20篇第10句）\n",
   "\n",
   "这句话里面，“what” 末尾的/t/与 “should” 前面的/ʃ/结合，变成了/ʧ/，而 “should” 末尾的/d/与后面的/ju:/结合成/djə/（因为 “you” 被弱读，后面的 “do” 被强读）。这句话里的/d + j/组合，并没因产生音变而成为 “ʤ”\n",
   "\n",
   "/s + j/可能会变成/ʃ/。注意，都是 “可能” 而非 “必须。实际上，/s + j/的情况并不多，最常见的是这个短语 “this year”。其实，是否产生音变，实在是因人而异 —— 有些人在发/s/音的时候，舌面更靠上一些；而另外一些人在发/s/音的时候，舌面没有那么靠上。舌面更靠上的人（下面第一句话），读出来，感觉是变成/ðɪ-ˈʃɪə/了，而舌面没有那么靠上的人（下面第二句话），读出来就没有什么变化。（其实，即便是同一个人说话，也不一定总是一模一样的，比如，他也可能有时候舌面更靠上一点，而另外一些时候没那么靠上。）\n",
   "\n",
   "> As the committee in charge of **this year's** tree-planting project, we have several items on our agenda. （第9篇第2句）\n",
   "> \n",
   "> When you entered as first-year students **this year**, the school assigned you to a dorm and a roommate... （第40篇第2句）\n",
   "> \n",
   "能够自然而然地发出这些因 “同化” 而产生的声音的关键在于/t/、/d/、/s/的舌尖起始位置必须是正确的。比较一下/t/和/ʧ/的舌尖起始位置，就知道这两个音的舌尖起始位置是大致相同的。而如果把/t/读成中文的[t]，那么舌尖起始位置就是在牙齿上而非牙龈上，那么，如论如何都发不出自然而然的 “同化” 了。\n",
   "\n",
   "唉，怎么又是/t/和/d/？——这其实并不奇怪，知识分布总是这样，大量的重点往往只集中在某几个甚至某一个部分之上。例如，英文语法书中，差不多有 2/3 的内容是关于动词的 —— 也是同样的道理。\n",
   "\n"
   ]
  }
 ],
 "nbformat": 4,
 "nbformat_minor": 5,
 "metadata": {}
}
